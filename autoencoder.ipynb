{
 "cells": [
  {
   "cell_type": "markdown",
   "metadata": {},
   "source": [
    "### Autoencoders\n",
    "\n",
    "Definición: https://www.ibm.com/es-es/topics/autoencoder \n",
    "\n",
    "Tipos:[ \\[link\\]](https://deeplearningofpython.blogspot.com/2023/05/Typesofautoencoders-implementation-keras.html?source=post_page-----383cfecc4d0e--------------------------------)\n",
    "\n",
    "Como funcionan: https://www.geeksforgeeks.org/how-autoencoders-works/ \n",
    "\n",
    "- Compresión de imágenes y regeneración de imágenes\n",
    "latent space: https://www.geeksforgeeks.org/what-is-latent-space-in-deep-learning/ \n",
    "Reconstrucción imágenes a partir del espacio latente https://medium.com/@jaiganesan/autoencoder-is-simple-9055a7b5b935 \n",
    "Calidad de reconstrucción y pérdida de información: https://medium.com/@bhipanshudhupar/loss-functions-in-simple-autoencoders-mse-vs-l1-loss-4e838ae425b9 "
   ]
  }
 ],
 "metadata": {
  "language_info": {
   "name": "python"
  }
 },
 "nbformat": 4,
 "nbformat_minor": 2
}
